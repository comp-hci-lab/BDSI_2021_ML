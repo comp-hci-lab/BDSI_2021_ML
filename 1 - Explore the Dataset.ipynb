{
 "cells": [
  {
   "cell_type": "markdown",
   "metadata": {},
   "source": [
    "[![Open In Colab](https://colab.research.google.com/assets/colab-badge.svg)](https://colab.research.google.com/github/shengpu1126/BDSI2019-ML/blob/master/1%20-%20Explore%20the%20Dataset.ipynb)"
   ]
  },
  {
   "cell_type": "markdown",
   "metadata": {},
   "source": [
    "### Note: Extra setup steps for Colab users\n",
    "\n",
    "- Downloads the data and helper files. \n",
    "- You should choose \"Reset all runtimes before running\" for first-time use to clear your temporary workspace. \n",
    "- If you already have the data/helpers in your workspace, you can deselect \"Reset all runtimes before running\" and skip these steps. \n",
    "- To save the notebook, use menu \"File - Save a copy in Drive...\""
   ]
  },
  {
   "cell_type": "code",
   "execution_count": null,
   "metadata": {},
   "outputs": [],
   "source": [
    "!pip install -U wget\n",
    "!rm -rf data.zip data lib\n",
    "!mkdir lib"
   ]
  },
  {
   "cell_type": "code",
   "execution_count": null,
   "metadata": {},
   "outputs": [],
   "source": [
    "import wget\n",
    "wget.download('https://github.com/shengpu1126/BDSI2019-ML/raw/master/lib/config.yaml', 'lib/config.yaml')\n",
    "wget.download('https://github.com/shengpu1126/BDSI2019-ML/raw/master/lib/helper.py', 'lib/helper.py')\n",
    "wget.download('https://github.com/shengpu1126/BDSI2019-ML/raw/master/data.zip', 'data.zip')\n",
    "\n",
    "import zipfile\n",
    "with zipfile.ZipFile(\"data.zip\",\"r\") as zip_ref:\n",
    "    zip_ref.extractall(\".\")"
   ]
  },
  {
   "cell_type": "markdown",
   "metadata": {},
   "source": [
    "# 1 - Explore the Dataset\n",
    "\n",
    "This dataset contains data for a total of **12,000 patient admissions**. For the tutorials, we will use data from the **first 2,500 patients** to explore several modeling and hyperparameter selection techniques. \n",
    "\n",
    "Each admission is associated with a RecordID (filename), and a separate csv file under data/files/. These csv files contain timestamped observations for several variables. Outcomes for each patient admission are listed in data/labels.csv, in which the first column is RecordID. The second column In-hospital mortality contains binary labels: 1 means the patient died in the hospital, and −1 means the patient survived and was discharged. The third column 30-day survival also contains binary labels: 1 means the patient died within 30 days, and −1 means the patient survived past 30 days.\n",
    "\n",
    "For each patient admission, you are given data representing the first 48 hours of the ICU admission, as a csv file with three columns: `Time`, `Variable` and `Value`. Each row in the csv file represents a single observation. Each observation has an associated timestamp indicating the time of the observation relative to the start of the ICU admission, in hours and minutes. For example, a timestamp of 35:19 means that the associated observation was made 35 hours and 19 minutes after the patient was admitted to the ICU.\n",
    "\n",
    "There are two main types of variables: time-invariant and time-varying. Their definitions are specified in `config.yaml`. In particular, time-invariant variables are collected at the time the patient is admitted to the ICU. Their associated timestamps are set to 00:00 (thus they appear at the beginning of each patient’s record). Unknown values are explicitly encoded as −1. On the other hand, time-series variables (e.g., heart rate) for a patient might be measured one time, many times or not at all. You will notice that, in addition to being time-invariant or time-varying, a variable could be one of the heterogeneous data types: numeric or categorical. See the documentation for more details regarding the meaning of each variable.\n",
    "\n",
    "## Tasks:\n",
    "- Load the dataset\n",
    "- Calculate mean heart rate of a patient\n",
    "- Plot heart rate trajectory for a patient\n",
    "- Calculate correlation between mean systolic and diastolic blood pressures across patients\n",
    "- Population charateristics"
   ]
  },
  {
   "cell_type": "code",
   "execution_count": null,
   "metadata": {},
   "outputs": [],
   "source": [
    "import numpy as np\n",
    "import pandas as pd\n",
    "import matplotlib.pyplot as plt\n",
    "import seaborn as sns"
   ]
  },
  {
   "cell_type": "code",
   "execution_count": null,
   "metadata": {},
   "outputs": [],
   "source": [
    "from lib.helper import load_data"
   ]
  },
  {
   "cell_type": "code",
   "execution_count": null,
   "metadata": {},
   "outputs": [],
   "source": [
    "# Load the dataset\n",
    "# `raw_data` is a dictionary mapping patient ID to the data associated with that patient\n",
    "raw_data, df_labels = load_data()"
   ]
  },
  {
   "cell_type": "code",
   "execution_count": null,
   "metadata": {},
   "outputs": [],
   "source": [
    "# Extract patient IDs\n",
    "IDs = sorted(raw_data.keys())"
   ]
  },
  {
   "cell_type": "markdown",
   "metadata": {},
   "source": [
    "## Heart rate of the first patient"
   ]
  },
  {
   "cell_type": "code",
   "execution_count": null,
   "metadata": {},
   "outputs": [],
   "source": [
    "# Get first patient's ID and his/her data\n",
    "ID = IDs[0]\n",
    "df = raw_data[ID]"
   ]
  },
  {
   "cell_type": "code",
   "execution_count": null,
   "metadata": {},
   "outputs": [],
   "source": [
    "print(ID)"
   ]
  },
  {
   "cell_type": "code",
   "execution_count": null,
   "metadata": {},
   "outputs": [],
   "source": [
    "df"
   ]
  },
  {
   "cell_type": "code",
   "execution_count": null,
   "metadata": {},
   "outputs": [],
   "source": [
    "# Extracting heart rate\n",
    "df_HR = df[df['Variable'] == 'HR'].copy()"
   ]
  },
  {
   "cell_type": "code",
   "execution_count": null,
   "metadata": {},
   "outputs": [],
   "source": [
    "# Convert time to fractional hours\n",
    "df_HR['Time'] = df_HR['Time'].apply(lambda s: int(s.split(':')[0]) + int(s.split(':')[1])/60)"
   ]
  },
  {
   "cell_type": "code",
   "execution_count": null,
   "metadata": {},
   "outputs": [],
   "source": [
    "## TODO:\n",
    "# Calculate mean HR\n"
   ]
  },
  {
   "cell_type": "code",
   "execution_count": null,
   "metadata": {},
   "outputs": [],
   "source": [
    "## TODO:\n",
    "# Plot HR trajectory\n"
   ]
  },
  {
   "cell_type": "markdown",
   "metadata": {},
   "source": [
    "## Blood pressure measurements"
   ]
  },
  {
   "cell_type": "code",
   "execution_count": null,
   "metadata": {},
   "outputs": [],
   "source": [
    "## TODO:\n",
    "# Extract blood pressures for all patients\n",
    "# Calculate mean blood pressures for each patient\n"
   ]
  },
  {
   "cell_type": "code",
   "execution_count": null,
   "metadata": {},
   "outputs": [],
   "source": [
    "## Calculate correlation\n"
   ]
  },
  {
   "cell_type": "markdown",
   "metadata": {},
   "source": [
    "## Population characteristics"
   ]
  },
  {
   "cell_type": "code",
   "execution_count": null,
   "metadata": {},
   "outputs": [],
   "source": [
    "# Gender: what's the percentage of females?\n"
   ]
  },
  {
   "cell_type": "code",
   "execution_count": null,
   "metadata": {},
   "outputs": [],
   "source": [
    "# Age: mean and interquartile range (IQR)?\n",
    "np.percentile(.., [25, 50, 75])\n"
   ]
  },
  {
   "cell_type": "code",
   "execution_count": null,
   "metadata": {},
   "outputs": [],
   "source": [
    "# ICUType: what are the fraction of patients in each ICU type?\n",
    "from collections import Counter\n"
   ]
  },
  {
   "cell_type": "code",
   "execution_count": null,
   "metadata": {},
   "outputs": [],
   "source": []
  }
 ],
 "metadata": {
  "kernelspec": {
   "display_name": "Python 3",
   "language": "python",
   "name": "python3"
  },
  "language_info": {
   "codemirror_mode": {
    "name": "ipython",
    "version": 3
   },
   "file_extension": ".py",
   "mimetype": "text/x-python",
   "name": "python",
   "nbconvert_exporter": "python",
   "pygments_lexer": "ipython3",
   "version": "3.7.3"
  }
 },
 "nbformat": 4,
 "nbformat_minor": 2
}
