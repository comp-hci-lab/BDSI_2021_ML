{
 "cells": [
  {
   "cell_type": "markdown",
   "metadata": {},
   "source": [
    "[![Open In Colab](https://colab.research.google.com/assets/colab-badge.svg)](https://colab.research.google.com/github/comp-hci-lab/BDSI_2021_ML/blob/master/A2%20-%20Backprop.ipynb)"
   ]
  },
  {
   "cell_type": "markdown",
   "metadata": {},
   "source": [
    "## BDSI ML 2021"
   ]
  },
  {
   "cell_type": "markdown",
   "metadata": {},
   "source": [
    "# A2 - Neural Nets: Backprop"
   ]
  },
  {
   "cell_type": "markdown",
   "metadata": {},
   "source": [
    "Consider the following three-layer neural network (with two hidden layers, ReLU for hidden activations, sigmoid for output activation, and binary cross entropy loss):\n",
    "\n",
    "![title](lib/three_layer_net.png)"
   ]
  },
  {
   "cell_type": "markdown",
   "metadata": {},
   "source": [
    "| Forward formula &emsp;&emsp;&emsp;&emsp;&emsp;&emsp;&emsp;&emsp;&emsp;&emsp;&emsp;&emsp; | Backward formula &emsp;&emsp; | &emsp;&emsp;&emsp;&emsp;&emsp;&emsp; |\n",
    "|---|---|---|\n",
    "| $z_{j}^{(2)} = \\sum_i w_{ij}^{(1)} x_i + b_{j}^{(1)}$ | $\\frac{\\partial z_{j}^{(2)}}{\\partial w_{ij}^{(1)}} = x_i$ | $\\frac{\\partial z_{j}^{(2)}}{\\partial x_i} = w_{ij}^{(1)}$ |\n",
    "| $h_{j}^{(2)} = \\max\\{z_{j}^{(2)}, 0\\}$ | $\\frac{\\partial h_{j}^{(2)}}{\\partial z_{j}^{(2)}} = \\mathbb{1}(z_{j}^{(2)} > 0)$\n",
    "| $z_{k}^{(3)} = \\sum_j w_{jk}^{(2)} h_{j}^{(2)} + b_{k}^{(2)}$ | $\\frac{\\partial z_{k}^{(3)}}{\\partial w_{jk}^{(2)}} = h_{j}^{(2)}$ | $\\frac{\\partial z_{k}^{(3)}}{\\partial h_{j}^{(2)}} = w_{jk}^{(2)}$ |\n",
    "| $h_{k}^{(3)} = \\max\\{z_{k}^{(3)}, 0\\}$ | $\\frac{\\partial h_{k}^{(3)}}{\\partial z_{k}^{(3)}} = \\mathbb{1}(z_{k}^{(3)} > 0)$ |\n",
    "| $z = \\sum_k w_{k}^{(3)} h_{k}^{(3)} + b^{(3)}$ | $\\frac{\\partial z}{\\partial w_{k}^{(3)}} = h_{k}^{(3)}$ | $\\frac{\\partial z}{\\partial h_{k}^{(3)}} = w_{k}^{(3)}$ |\n",
    "| $\\hat{y} = h = \\sigma(z) $ | $\\frac{\\partial \\hat{y}}{\\partial z} = \\hat{y}(1-\\hat{y})$ |\n",
    "| $L = -\\left[y\\log\\hat{y} + (1-y)\\log(1-\\hat{y})\\right]$| $\\frac{\\partial L}{\\partial \\hat{y}} = - \\left[\\frac{y}{\\hat{y}} - \\frac{1-y}{1-\\hat{y}}\\right] $ |"
   ]
  },
  {
   "cell_type": "code",
   "execution_count": 1,
   "metadata": {
    "ExecuteTime": {
     "end_time": "2021-07-08T00:40:15.951764Z",
     "start_time": "2021-07-08T00:40:15.490586Z"
    }
   },
   "outputs": [],
   "source": [
    "import torch\n",
    "import torch.nn as nn\n",
    "import torch.nn.functional as F"
   ]
  },
  {
   "cell_type": "code",
   "execution_count": 2,
   "metadata": {
    "ExecuteTime": {
     "end_time": "2021-07-08T00:40:16.492777Z",
     "start_time": "2021-07-08T00:40:16.486861Z"
    }
   },
   "outputs": [],
   "source": [
    "class ThreeLayerNet(nn.Module):\n",
    "    def __init__(self, d1, d2, d3):\n",
    "        super().__init__()\n",
    "        self.fc1 = nn.Linear(d1, d2)\n",
    "        self.fc2 = nn.Linear(d2, d3)\n",
    "        self.fc3 = nn.Linear(d3, 1)\n",
    "    \n",
    "    def forward(self, x):\n",
    "        z2 = self.fc1(x)\n",
    "        h2 = torch.relu(z2)\n",
    "        z3 = self.fc2(h2)\n",
    "        h3 = torch.relu(z3)\n",
    "        z = self.fc3(h3)\n",
    "        h = torch.sigmoid(z)\n",
    "        \n",
    "        # also output intermediate computations and gradients\n",
    "        intermediate = {\n",
    "            'x': x, \n",
    "            'z2': z2, \n",
    "            'h2': h2, \n",
    "            'z3': z3, \n",
    "            'h3': h3, \n",
    "            'z' : z, \n",
    "            'h' : h,\n",
    "        }\n",
    "        for _, v in intermediate.items():\n",
    "            v.retain_grad()\n",
    "        return h, intermediate"
   ]
  },
  {
   "cell_type": "code",
   "execution_count": 3,
   "metadata": {
    "ExecuteTime": {
     "end_time": "2021-07-08T00:40:17.549780Z",
     "start_time": "2021-07-08T00:40:17.541365Z"
    }
   },
   "outputs": [],
   "source": [
    "model = ThreeLayerNet(2,2,3)\n",
    "criterion = nn.BCELoss()\n",
    "optimizer = torch.optim.SGD(model.parameters(), lr=0.1)\n",
    "\n",
    "# Manually initialize some weights\n",
    "with torch.no_grad():\n",
    "    model.fc1.weight = torch.nn.Parameter(torch.tensor([[1., 0.], [0., 1.]]))\n",
    "    model.fc1.bias = torch.nn.Parameter(torch.tensor([0., 0.]))\n",
    "    model.fc2.weight = torch.nn.Parameter(torch.tensor([[1., 1.], [-1., 1.], [1., 0.]]))\n",
    "    model.fc2.bias = torch.nn.Parameter(torch.tensor([0., 0., 0.]))\n",
    "    model.fc3.weight = torch.nn.Parameter(torch.tensor([[1., -1., 0.]]))\n",
    "    model.fc3.bias = torch.nn.Parameter(torch.tensor([0.]))"
   ]
  },
  {
   "cell_type": "code",
   "execution_count": 4,
   "metadata": {
    "ExecuteTime": {
     "end_time": "2021-07-08T00:40:18.856693Z",
     "start_time": "2021-07-08T00:40:18.847509Z"
    }
   },
   "outputs": [
    {
     "data": {
      "text/plain": [
       "ThreeLayerNet(\n",
       "  (fc1): Linear(in_features=2, out_features=2, bias=True)\n",
       "  (fc2): Linear(in_features=2, out_features=3, bias=True)\n",
       "  (fc3): Linear(in_features=3, out_features=1, bias=True)\n",
       ")"
      ]
     },
     "execution_count": 4,
     "metadata": {},
     "output_type": "execute_result"
    }
   ],
   "source": [
    "model"
   ]
  },
  {
   "cell_type": "code",
   "execution_count": 5,
   "metadata": {
    "ExecuteTime": {
     "end_time": "2021-07-08T00:40:19.392081Z",
     "start_time": "2021-07-08T00:40:19.389060Z"
    }
   },
   "outputs": [],
   "source": [
    "# Create some data\n",
    "x = torch.tensor([[1., -1.]], requires_grad=True)\n",
    "y = torch.tensor([[0.]])"
   ]
  },
  {
   "cell_type": "code",
   "execution_count": 6,
   "metadata": {
    "ExecuteTime": {
     "end_time": "2021-07-08T00:40:20.012119Z",
     "start_time": "2021-07-08T00:40:19.999661Z"
    }
   },
   "outputs": [
    {
     "name": "stdout",
     "output_type": "stream",
     "text": [
      "- fc1.weight\n",
      "tensor([[1., 0.],\n",
      "        [0., 1.]])\n",
      "\n",
      "- fc1.bias\n",
      "tensor([0., 0.])\n",
      "\n",
      "- fc2.weight\n",
      "tensor([[ 1.,  1.],\n",
      "        [-1.,  1.],\n",
      "        [ 1.,  0.]])\n",
      "\n",
      "- fc2.bias\n",
      "tensor([0., 0., 0.])\n",
      "\n",
      "- fc3.weight\n",
      "tensor([[ 1., -1.,  0.]])\n",
      "\n",
      "- fc3.bias\n",
      "tensor([0.])\n",
      "\n"
     ]
    }
   ],
   "source": [
    "# Initial model weights\n",
    "for name, p in model.named_parameters():\n",
    "    print('-', name)\n",
    "    print(p.data)\n",
    "    print()"
   ]
  },
  {
   "cell_type": "markdown",
   "metadata": {},
   "source": [
    "## Forward computation\n",
    "\n",
    "Given one example: $\\bar{x} = [x_1, x_2]^\\intercal = [1, -1]^\\intercal $, $y=0$. \n",
    "\n",
    "Also given initial model weights: \n",
    "\n",
    "$W^{(1)} = \\begin{bmatrix} 1 & 0 \\\\ 0 & 1 \\end{bmatrix}$\n",
    "\n",
    "$W^{(2)} = \\begin{bmatrix} 1 & 1 \\\\ -1 & 1 \\\\ 1 & 0 \\end{bmatrix}$\n",
    "\n",
    "$W^{(3)} = \\begin{bmatrix} 1 & -1 & 0 \\end{bmatrix}$"
   ]
  },
  {
   "cell_type": "markdown",
   "metadata": {},
   "source": [
    "| Forward formula &emsp;&emsp;&emsp;&emsp;&emsp;&emsp;&emsp;&emsp;&emsp;&emsp;&emsp;&emsp; | Value(s) &emsp;&emsp;&emsp; |\n",
    "|---------|-------|\n",
    "| $z_{j}^{(2)} = \\sum_i w_{ij}^{(1)} x_i + b_{j}^{(1)}$ | ___ |\n",
    "| $h_{j}^{(2)} = \\max\\{z_{j}^{(2)}, 0\\}$ | ___ |\n",
    "| $z_{k}^{(3)} = \\sum_j w_{jk}^{(2)} h_{j}^{(2)} + b_{k}^{(2)}$ | ___ |\n",
    "| $h_{k}^{(3)} = \\max\\{z_{k}^{(3)}, 0\\}$ | ___ |\n",
    "| $z = \\sum_k w_{k}^{(3)} h_{k}^{(3)} + b^{(3)}$ | ___ |\n",
    "| $\\hat{y} = \\sigma(z) $ | ___ |\n",
    "| $L = -\\left[y\\log\\hat{y} + (1-y)\\log(1-\\hat{y})\\right]$| ___ |"
   ]
  },
  {
   "cell_type": "code",
   "execution_count": 7,
   "metadata": {
    "ExecuteTime": {
     "end_time": "2021-07-08T00:40:22.126612Z",
     "start_time": "2021-07-08T00:40:22.122988Z"
    }
   },
   "outputs": [],
   "source": [
    "# Forward pass\n",
    "y_hat, results = model(x)\n",
    "loss = criterion(y_hat, y)"
   ]
  },
  {
   "cell_type": "code",
   "execution_count": 8,
   "metadata": {
    "ExecuteTime": {
     "end_time": "2021-07-08T00:40:22.593022Z",
     "start_time": "2021-07-08T00:40:22.581855Z"
    }
   },
   "outputs": [
    {
     "name": "stdout",
     "output_type": "stream",
     "text": [
      "x \t tensor([[ 1., -1.]])\n",
      "z2 \t tensor([[ 1., -1.]])\n",
      "h2 \t tensor([[1., 0.]])\n",
      "z3 \t tensor([[ 1., -1.,  1.]])\n",
      "h3 \t tensor([[1., 0., 1.]])\n",
      "z \t tensor([[1.]])\n",
      "h \t tensor([[0.7311]])\n",
      "L \t tensor(1.3133)\n"
     ]
    }
   ],
   "source": [
    "for name, v in results.items():\n",
    "    print(name, '\\t', v.data)\n",
    "\n",
    "print('L', '\\t', loss.data)"
   ]
  },
  {
   "cell_type": "markdown",
   "metadata": {},
   "source": [
    "## Backward computation"
   ]
  },
  {
   "cell_type": "markdown",
   "metadata": {},
   "source": [
    "| Backward formula &emsp;&emsp;&emsp; | Value(s) &emsp;&emsp;&emsp; | Backward formula &emsp;&emsp;&emsp; | Value(s) &emsp;&emsp;&emsp; |\n",
    "|---|---|---|---|\n",
    "| $\\frac{\\partial z_{j}^{(2)}}{\\partial w_{ij}^{(1)}} = x_i$ | ___ | $\\frac{\\partial z_{j}^{(2)}}{\\partial x_i} = w_{ij}^{(1)}$ | ___ |\n",
    "| $\\frac{\\partial h_{j}^{(2)}}{\\partial z_{j}^{(2)}} = \\mathbb{1}(z_{j}^{(2)} > 0)$ | ___ |\n",
    "| $\\frac{\\partial z_{k}^{(3)}}{\\partial w_{jk}^{(2)}} = h_{j}^{(2)}$ | ___ | $\\frac{\\partial z_{k}^{(3)}}{\\partial h_{j}^{(2)}} = w_{jk}^{(2)}$ | ___ |\n",
    "| $\\frac{\\partial h_{k}^{(3)}}{\\partial z_{k}^{(3)}} = \\mathbb{1}(z_{k}^{(3)} > 0)$ | ___ |\n",
    "| $\\frac{\\partial z}{\\partial w_{k}^{(3)}} = h_{k}^{(3)}$ | ___ | $\\frac{\\partial z}{\\partial h_{k}^{(3)}} = w_{k}^{(3)}$ | ___ |\n",
    "| $\\frac{\\partial \\hat{y}}{\\partial z} = \\hat{y}(1-\\hat{y})$ | ___ |\n",
    "| $\\frac{\\partial L}{\\partial \\hat{y}} = - \\left[\\frac{y}{\\hat{y}} - \\frac{1-y}{1-\\hat{y}}\\right] $ | ___ |\n",
    "\n",
    "Applying chain rule:\n",
    "\n",
    "$\\frac{\\partial L}{\\partial z} = $\n",
    "\n",
    "$\\frac{\\partial L}{\\partial w_{k}^{(3)}} = $\n",
    "\n",
    "$\\frac{\\partial L}{\\partial w_{jk}^{(2)}} = $\n",
    "\n",
    "$\\frac{\\partial L}{\\partial w_{ij}^{(1)}} = $"
   ]
  },
  {
   "cell_type": "code",
   "execution_count": 9,
   "metadata": {
    "ExecuteTime": {
     "end_time": "2021-07-08T00:40:24.290277Z",
     "start_time": "2021-07-08T00:40:24.286851Z"
    }
   },
   "outputs": [],
   "source": [
    "# Backward pass\n",
    "optimizer.zero_grad()\n",
    "loss.backward()"
   ]
  },
  {
   "cell_type": "code",
   "execution_count": 10,
   "metadata": {
    "ExecuteTime": {
     "end_time": "2021-07-08T00:40:24.773139Z",
     "start_time": "2021-07-08T00:40:24.762932Z"
    }
   },
   "outputs": [
    {
     "name": "stdout",
     "output_type": "stream",
     "text": [
      "Gradient of x \t tensor([[0.7311, 0.0000]])\n",
      "Gradient of z2 \t tensor([[0.7311, 0.0000]])\n",
      "Gradient of h2 \t tensor([[0.7311, 0.7311]])\n",
      "Gradient of z3 \t tensor([[0.7311, 0.0000, 0.0000]])\n",
      "Gradient of h3 \t tensor([[ 0.7311, -0.7311,  0.0000]])\n",
      "Gradient of z \t tensor([[0.7311]])\n",
      "Gradient of h \t tensor([[3.7183]])\n"
     ]
    }
   ],
   "source": [
    "for name, v in results.items():\n",
    "    print('Gradient of', name, '\\t', v.grad)"
   ]
  },
  {
   "cell_type": "code",
   "execution_count": 11,
   "metadata": {
    "ExecuteTime": {
     "end_time": "2021-07-08T00:40:26.173896Z",
     "start_time": "2021-07-08T00:40:26.164001Z"
    }
   },
   "outputs": [
    {
     "name": "stdout",
     "output_type": "stream",
     "text": [
      "Gradient of fc1.weight\n",
      "tensor([[ 0.7311, -0.7311],\n",
      "        [ 0.0000, -0.0000]])\n",
      "\n",
      "Gradient of fc1.bias\n",
      "tensor([0.7311, 0.0000])\n",
      "\n",
      "Gradient of fc2.weight\n",
      "tensor([[0.7311, 0.0000],\n",
      "        [0.0000, 0.0000],\n",
      "        [0.0000, 0.0000]])\n",
      "\n",
      "Gradient of fc2.bias\n",
      "tensor([0.7311, 0.0000, 0.0000])\n",
      "\n",
      "Gradient of fc3.weight\n",
      "tensor([[0.7311, 0.0000, 0.7311]])\n",
      "\n",
      "Gradient of fc3.bias\n",
      "tensor([0.7311])\n",
      "\n"
     ]
    }
   ],
   "source": [
    "for name, p in model.named_parameters():\n",
    "    print('Gradient of', name)\n",
    "    print(p.grad)\n",
    "    print()"
   ]
  },
  {
   "cell_type": "code",
   "execution_count": null,
   "metadata": {},
   "outputs": [],
   "source": []
  },
  {
   "cell_type": "code",
   "execution_count": null,
   "metadata": {},
   "outputs": [],
   "source": []
  }
 ],
 "metadata": {
  "kernelspec": {
   "display_name": "Python 3",
   "language": "python",
   "name": "python3"
  },
  "language_info": {
   "codemirror_mode": {
    "name": "ipython",
    "version": 3
   },
   "file_extension": ".py",
   "mimetype": "text/x-python",
   "name": "python",
   "nbconvert_exporter": "python",
   "pygments_lexer": "ipython3",
   "version": "3.7.3"
  }
 },
 "nbformat": 4,
 "nbformat_minor": 2
}
