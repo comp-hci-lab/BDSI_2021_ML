{
 "cells": [
  {
   "cell_type": "markdown",
   "metadata": {},
   "source": [
    "[![Open In Colab](https://colab.research.google.com/assets/colab-badge.svg)](https://colab.research.google.com/github/comp-hci-lab/BDSI_2021_ML/blob/master/A1%20-%20Decision%20Boundary.ipynb)"
   ]
  },
  {
   "cell_type": "markdown",
   "metadata": {},
   "source": [
    "## BDSI ML 2021"
   ]
  },
  {
   "cell_type": "markdown",
   "metadata": {},
   "source": [
    "# A1 - Neural Nets: Decision Boundary (demo)\n",
    "- Two synthetic datasets in 2D\n",
    "- Visualize the decision boundary and output contour of single-layer or multi-layer neural nets\n",
    "\n",
    "Similar visualizations can be found at: https://playground.tensorflow.org/"
   ]
  },
  {
   "cell_type": "code",
   "execution_count": null,
   "metadata": {
    "ExecuteTime": {
     "end_time": "2021-07-08T00:37:38.323338Z",
     "start_time": "2021-07-08T00:37:37.352426Z"
    },
    "colab": {},
    "colab_type": "code",
    "id": "2M0PqNXXZW2v"
   },
   "outputs": [],
   "source": [
    "# GPU support\n",
    "import torch\n",
    "device = torch.device('cuda' if torch.cuda.is_available() else 'cpu')\n",
    "print('using device:', device)"
   ]
  },
  {
   "cell_type": "code",
   "execution_count": null,
   "metadata": {
    "ExecuteTime": {
     "end_time": "2021-07-08T00:37:40.016942Z",
     "start_time": "2021-07-08T00:37:39.612464Z"
    }
   },
   "outputs": [],
   "source": [
    "import numpy as np\n",
    "from matplotlib import pyplot as plt\n",
    "from tqdm import tqdm\n",
    "import torch\n",
    "import torch.nn as nn"
   ]
  },
  {
   "cell_type": "code",
   "execution_count": null,
   "metadata": {
    "ExecuteTime": {
     "end_time": "2021-07-08T00:37:40.470302Z",
     "start_time": "2021-07-08T00:37:40.467064Z"
    }
   },
   "outputs": [],
   "source": [
    "plt.rcParams['figure.figsize'] = (8.0, 8.0)\n",
    "plt.rcParams['lines.markersize'] = 6.0"
   ]
  },
  {
   "cell_type": "code",
   "execution_count": null,
   "metadata": {
    "ExecuteTime": {
     "end_time": "2021-07-08T00:37:42.157671Z",
     "start_time": "2021-07-08T00:37:42.144644Z"
    }
   },
   "outputs": [],
   "source": [
    "#@title Helper functions for plotting. { display-mode: \"form\" }\n",
    "from matplotlib import cm, ticker\n",
    "\n",
    "MARKERS = ['o', 'x', 'v']\n",
    "COLORS = ['red', 'green', 'blue']\n",
    "\n",
    "def count_parameters(model):\n",
    "    return sum(p.numel() for p in model.parameters() if p.requires_grad)\n",
    "\n",
    "def plot_points(X, y):\n",
    "    for i, label in enumerate(set(y)):\n",
    "        points = X[y == label]\n",
    "        marker = MARKERS[i % len(MARKERS)]\n",
    "        color = COLORS[i % len(COLORS)]\n",
    "        plt.scatter(points[:,0], points[:,1], marker=marker, color=color)\n",
    "\n",
    "def predict(model, x):\n",
    "    with torch.no_grad():\n",
    "        o = model(torch.from_numpy(x).float().to(device))\n",
    "    return o.cpu().numpy()\n",
    "\n",
    "def plot_boundary(X, pred):\n",
    "    try:\n",
    "        x_min, x_max = plt.gca().get_xlim()\n",
    "        y_min, y_max = plt.gca().get_ylim()\n",
    "    except:\n",
    "        x_min, x_max = X[:,0].min() - .1, X[:,0].max() + .1\n",
    "        y_min, y_max = X[:,1].min() - .1, X[:,1].max() + .1\n",
    "    xs, ys = np.meshgrid(\n",
    "        np.linspace(x_min, x_max, 200),\n",
    "        np.linspace(y_min, y_max, 200)\n",
    "    )\n",
    "    xys = np.column_stack([xs.ravel(), ys.ravel()])\n",
    "    zs = pred(xys).reshape(xs.shape)\n",
    "    plt.contour(xs, ys, (zs >= 0.5).astype(int), cmap='Greys')\n",
    "    plt.imshow(zs, cmap=\"PiYG\", vmin=-.2, vmax=1.2, alpha=0.4, origin='lower', extent=[x_min, x_max, y_min, y_max])"
   ]
  },
  {
   "cell_type": "code",
   "execution_count": null,
   "metadata": {
    "ExecuteTime": {
     "end_time": "2021-07-08T00:37:42.942094Z",
     "start_time": "2021-07-08T00:37:42.925910Z"
    }
   },
   "outputs": [],
   "source": [
    "#@title Two synthetic datasets in 2D. { display-mode: \"form\" }\n",
    "from torch.utils.data import Dataset, DataLoader\n",
    "\n",
    "class D1(Dataset):\n",
    "    def __init__(self, N=50):\n",
    "        super().__init__()\n",
    "        np.random.seed(0)\n",
    "        self.X = np.r_[2.0 * np.random.randn(N//2, 2) - [2, 2], 2.0 * np.random.randn(N//2, 2) + [2, 2]]\n",
    "        self.y = np.array([0] * (N//2) + [1] * (N//2))\n",
    "        \n",
    "    def __getitem__(self, idx):\n",
    "        return torch.from_numpy(self.X[idx]).float(), torch.FloatTensor([self.y[idx]])\n",
    "    \n",
    "    def __len__(self):\n",
    "        return len(self.X)\n",
    "\n",
    "class D2(Dataset):\n",
    "    def __init__(self, N=50):\n",
    "        super().__init__()\n",
    "        np.random.seed(0)\n",
    "        X = 2.0 * np.random.randn(N, 2)\n",
    "        y = np.array([0] * N)\n",
    "        y[np.diag(X@X.T)>6] = 1\n",
    "        self.X = X\n",
    "        self.y = y\n",
    "        \n",
    "    def __getitem__(self, idx):\n",
    "        return torch.from_numpy(self.X[idx]).float(), torch.FloatTensor([self.y[idx]])\n",
    "    \n",
    "    def __len__(self):\n",
    "        return len(self.X)"
   ]
  },
  {
   "cell_type": "markdown",
   "metadata": {},
   "source": [
    "## Load data\n",
    "Try `d = D1(100)` or `d = D2(100)`"
   ]
  },
  {
   "cell_type": "code",
   "execution_count": null,
   "metadata": {
    "ExecuteTime": {
     "end_time": "2021-07-08T00:37:44.378456Z",
     "start_time": "2021-07-08T00:37:44.156042Z"
    }
   },
   "outputs": [],
   "source": [
    "d = D1(100)\n",
    "plot_points(d.X, d.y)"
   ]
  },
  {
   "cell_type": "markdown",
   "metadata": {},
   "source": [
    "## Define the neural network:"
   ]
  },
  {
   "cell_type": "code",
   "execution_count": null,
   "metadata": {
    "ExecuteTime": {
     "end_time": "2021-07-08T00:37:45.623323Z",
     "start_time": "2021-07-08T00:37:45.612001Z"
    }
   },
   "outputs": [],
   "source": [
    "torch.random.manual_seed(2)\n",
    "net = nn.Sequential(\n",
    "    nn.Linear(2,1),\n",
    "    nn.Sigmoid(),\n",
    ")\n",
    "net.to(device)\n",
    "criterion = nn.BCELoss()\n",
    "optimizer = torch.optim.SGD(net.parameters(), lr=0.01)\n",
    "dataloader = DataLoader(d, batch_size=4)"
   ]
  },
  {
   "cell_type": "code",
   "execution_count": null,
   "metadata": {
    "ExecuteTime": {
     "end_time": "2021-07-08T00:37:46.087771Z",
     "start_time": "2021-07-08T00:37:46.084327Z"
    }
   },
   "outputs": [],
   "source": [
    "print('Number of float-valued parameters:', count_parameters(net))"
   ]
  },
  {
   "cell_type": "markdown",
   "metadata": {},
   "source": [
    "## Before training..."
   ]
  },
  {
   "cell_type": "code",
   "execution_count": null,
   "metadata": {
    "ExecuteTime": {
     "end_time": "2021-07-08T00:37:47.249693Z",
     "start_time": "2021-07-08T00:37:46.973006Z"
    }
   },
   "outputs": [],
   "source": [
    "plot_points(d.X, d.y)\n",
    "plot_boundary(d.X, lambda x: predict(net, x))"
   ]
  },
  {
   "cell_type": "markdown",
   "metadata": {},
   "source": [
    "## After training..."
   ]
  },
  {
   "cell_type": "code",
   "execution_count": null,
   "metadata": {
    "ExecuteTime": {
     "end_time": "2021-07-08T00:37:54.040094Z",
     "start_time": "2021-07-08T00:37:48.204500Z"
    }
   },
   "outputs": [],
   "source": [
    "# Trainer loop\n",
    "for epoch in tqdm(range(1000)):\n",
    "    for X, y in dataloader:\n",
    "        X, y = X.to(device), y.to(device)\n",
    "        optimizer.zero_grad()\n",
    "        output = net(X)\n",
    "        loss = criterion(output, y)\n",
    "        loss.backward()\n",
    "        optimizer.step() "
   ]
  },
  {
   "cell_type": "code",
   "execution_count": null,
   "metadata": {
    "ExecuteTime": {
     "end_time": "2021-07-08T00:37:55.810862Z",
     "start_time": "2021-07-08T00:37:55.536202Z"
    }
   },
   "outputs": [],
   "source": [
    "plot_points(d.X, d.y)\n",
    "plot_boundary(d.X, lambda x: predict(net, x))"
   ]
  },
  {
   "cell_type": "code",
   "execution_count": null,
   "metadata": {},
   "outputs": [],
   "source": []
  }
 ],
 "metadata": {
  "kernelspec": {
   "display_name": "Python 3",
   "language": "python",
   "name": "python3"
  },
  "language_info": {
   "codemirror_mode": {
    "name": "ipython",
    "version": 3
   },
   "file_extension": ".py",
   "mimetype": "text/x-python",
   "name": "python",
   "nbconvert_exporter": "python",
   "pygments_lexer": "ipython3",
   "version": "3.7.3"
  }
 },
 "nbformat": 4,
 "nbformat_minor": 2
}
