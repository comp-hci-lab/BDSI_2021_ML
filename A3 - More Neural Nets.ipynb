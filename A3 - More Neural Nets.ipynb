{
 "cells": [
  {
   "cell_type": "markdown",
   "metadata": {},
   "source": [
    "[![Open In Colab](https://colab.research.google.com/assets/colab-badge.svg)](https://colab.research.google.com/github/comp-hci-lab/BDSI_2021_ML/blob/master/A3%20-%20More%20Neural%20Nets.ipynb)"
   ]
  },
  {
   "cell_type": "markdown",
   "metadata": {},
   "source": [
    "## BDSI ML 2021"
   ]
  },
  {
   "cell_type": "markdown",
   "metadata": {},
   "source": [
    "# A3 - More Neural Nets\n",
    "\n",
    "**Note:** If you wish to use GPU, please select from the menu \"Runtime - Change runtime type\" and set \"Hardware accelerator\" to \"GPU\". "
   ]
  },
  {
   "cell_type": "code",
   "execution_count": null,
   "metadata": {
    "ExecuteTime": {
     "end_time": "2021-07-08T04:23:41.531964Z",
     "start_time": "2021-07-08T04:23:38.654946Z"
    }
   },
   "outputs": [],
   "source": [
    "#@title Run this cell to download preprocessed data (features + labels). { display-mode: \"form\" }\n",
    "!pip install -U wget\n",
    "!rm -rf preprocessed\n",
    "!mkdir preprocessed\n",
    "\n",
    "import wget\n",
    "wget.download('https://github.com/comp-hci-lab/BDSI_2021_ML/raw/master/preprocessed/data.npz', 'preprocessed/data.npz')"
   ]
  },
  {
   "cell_type": "code",
   "execution_count": null,
   "metadata": {
    "ExecuteTime": {
     "end_time": "2021-07-08T04:23:41.650043Z",
     "start_time": "2021-07-08T04:23:41.534858Z"
    }
   },
   "outputs": [],
   "source": [
    "!mkdir -p checkpoint"
   ]
  },
  {
   "cell_type": "code",
   "execution_count": null,
   "metadata": {
    "ExecuteTime": {
     "end_time": "2021-07-08T04:23:43.621476Z",
     "start_time": "2021-07-08T04:23:42.073978Z"
    }
   },
   "outputs": [],
   "source": [
    "import numpy as np\n",
    "import pandas as pd\n",
    "from tqdm import tqdm\n",
    "import matplotlib.pyplot as plt\n",
    "from sklearn import metrics, exceptions\n",
    "import os, random, shutil"
   ]
  },
  {
   "cell_type": "code",
   "execution_count": null,
   "metadata": {
    "ExecuteTime": {
     "end_time": "2021-07-08T04:23:43.877724Z",
     "start_time": "2021-07-08T04:23:43.623872Z"
    },
    "colab": {},
    "colab_type": "code",
    "id": "2M0PqNXXZW2v"
   },
   "outputs": [],
   "source": [
    "# GPU support\n",
    "import torch\n",
    "device = torch.device('cuda' if torch.cuda.is_available() else 'cpu')\n",
    "print('using device:', device)"
   ]
  },
  {
   "cell_type": "code",
   "execution_count": null,
   "metadata": {
    "ExecuteTime": {
     "end_time": "2021-07-08T04:23:44.161185Z",
     "start_time": "2021-07-08T04:23:44.123424Z"
    }
   },
   "outputs": [],
   "source": [
    "#@title Run this cell to run preprocessing. { display-mode: \"form\" }\n",
    "\n",
    "with np.load('preprocessed/data.npz') as f:\n",
    "    X = f['X']\n",
    "    y = f['y']\n",
    "    feature_names = f['feature_names']\n",
    "\n",
    "def impute_missing_values(X):\n",
    "    \"\"\"\n",
    "    For each feature column, impute missing values  (np.nan) with the \n",
    "    population mean for that feature.\n",
    "    \n",
    "    Args:\n",
    "        X: np.array, shape (N, d). X could contain missing values\n",
    "    Returns:\n",
    "        X: np.array, shape (N, d). X does not contain any missing values\n",
    "    \"\"\"\n",
    "    from sklearn.impute import SimpleImputer\n",
    "    return SimpleImputer().fit_transform(X)\n",
    "\n",
    "def normalize_feature_matrix(X):\n",
    "    \"\"\"\n",
    "    For each feature column, normalize all values to range [0, 1].\n",
    "\n",
    "    Args:\n",
    "        X: np.array, shape (N, d).\n",
    "    Returns:\n",
    "        X: np.array, shape (N, d). Values are normalized per column.\n",
    "    \"\"\"\n",
    "    from sklearn.preprocessing import MinMaxScaler\n",
    "    return MinMaxScaler().fit_transform(X)\n",
    "\n",
    "X = impute_missing_values(X)\n",
    "X = normalize_feature_matrix(X)\n",
    "\n",
    "_, d = X.shape\n",
    "\n",
    "# Split data into train (80%), validation (10%) and test (10%)\n",
    "from sklearn.model_selection import train_test_split\n",
    "Xtr, X__, ytr, y__ = train_test_split(X,   y,   train_size=0.7, stratify=y,   random_state=0)\n",
    "Xva, Xte, yva, yte = train_test_split(X__, y__, test_size=0.5, stratify=y__, random_state=0)\n",
    "\n",
    "print('tr Data Shapes:', Xtr.shape, ytr.shape)\n",
    "print('va Data Shapes:', Xva.shape, yva.shape)\n",
    "print('te Data Shapes:', Xte.shape, yte.shape)\n",
    "\n",
    "import torch\n",
    "from torch.utils.data import Dataset, DataLoader\n",
    "\n",
    "class SimpleDataset(Dataset):\n",
    "    def __init__(self, X, y):\n",
    "        self.X, self.y = X, y\n",
    "    def __getitem__(self, idx):\n",
    "        return torch.from_numpy(self.X[idx]).float(), torch.tensor([self.y[idx]]).float()\n",
    "    def __len__(self):\n",
    "        return len(self.X)\n",
    "\n",
    "tr = SimpleDataset(Xtr, ytr)\n",
    "va = SimpleDataset(Xva, yva)\n",
    "te = SimpleDataset(Xte, yte)"
   ]
  },
  {
   "cell_type": "code",
   "execution_count": null,
   "metadata": {
    "ExecuteTime": {
     "end_time": "2021-07-08T04:31:53.279172Z",
     "start_time": "2021-07-08T04:31:53.259047Z"
    }
   },
   "outputs": [],
   "source": [
    "#@title Run this cell to define helper functions for training, evaluation and checkpointing... { display-mode: \"form\" }\n",
    "def _train_epoch(data_loader, model, criterion, optimizer):\n",
    "    \"\"\"\n",
    "    Train the `model` for one epoch of data from `data_loader`\n",
    "    Use `optimizer` to optimize the specified `criterion`\n",
    "    \"\"\"\n",
    "    model.train()\n",
    "    for i, (X, y) in enumerate(data_loader):\n",
    "        # optionally, move data to the appropriate device (GPU or CPU)\n",
    "        X, y = X.to(device), y.to(device)\n",
    "        \n",
    "        # clear parameter gradients\n",
    "        optimizer.zero_grad()\n",
    "\n",
    "        # forward + backward + optimize\n",
    "        output = model(X)\n",
    "        loss = criterion(output, y)\n",
    "        loss.backward()\n",
    "        optimizer.step()\n",
    "\n",
    "def _evaluate_epoch(tr_loader, va_loader, model, criterion):\n",
    "    model.eval()\n",
    "    with torch.no_grad():\n",
    "        # Evaluate on train\n",
    "        y_true, y_score = [], []\n",
    "        running_loss = []\n",
    "        for X, y in tr_loader:\n",
    "            X, y = X.to(device), y.to(device)\n",
    "            output = model(X)\n",
    "            y_true.append(y.cpu().numpy())\n",
    "            y_score.append(output.cpu().numpy())\n",
    "            running_loss.append(criterion(output, y).item())\n",
    "\n",
    "        y_true, y_score = np.concatenate(y_true), np.concatenate(y_score)\n",
    "        train_loss = np.mean(running_loss)\n",
    "        train_score = metrics.roc_auc_score(y_true, y_score)\n",
    "        #print('tr loss', train_loss, 'tr AUROC', train_score)\n",
    "\n",
    "        # Evaluate on validation\n",
    "        y_true, y_score = [], []\n",
    "        running_loss = []\n",
    "        for X, y in va_loader:\n",
    "            X, y = X.to(device), y.to(device)\n",
    "            with torch.no_grad():\n",
    "                output = model(X)\n",
    "                y_true.append(y.cpu().numpy())\n",
    "                y_score.append(output.cpu().numpy())\n",
    "                running_loss.append(criterion(output, y).item())\n",
    "\n",
    "        y_true, y_score = np.concatenate(y_true), np.concatenate(y_score)\n",
    "        val_loss = np.mean(running_loss)\n",
    "        val_score = metrics.roc_auc_score(y_true, y_score)\n",
    "        #print('va loss', val_loss, 'va AUROC', val_score)\n",
    "    return train_loss, val_loss, train_score, val_score\n",
    "\n",
    "def save_checkpoint(model, epoch, checkpoint_dir):\n",
    "    state = {\n",
    "        'epoch': epoch,\n",
    "        'state_dict': model.state_dict(),\n",
    "    }\n",
    "\n",
    "    filename = os.path.join(checkpoint_dir, 'epoch={}.checkpoint.pth.tar'.format(epoch))\n",
    "    torch.save(state, filename)\n",
    "\n",
    "import itertools\n",
    "def restore_checkpoint(model, checkpoint_dir, cuda=False):\n",
    "    \"\"\"\n",
    "    If a checkpoint exists, restores the PyTorch model from the checkpoint.\n",
    "    Returns the model and the current epoch.\n",
    "    \"\"\"\n",
    "    cp_files = [file_ for file_ in os.listdir(checkpoint_dir)\n",
    "        if file_.startswith('epoch=') and file_.endswith('.checkpoint.pth.tar')]\n",
    "\n",
    "    if not cp_files:\n",
    "        print('No saved model parameters found')\n",
    "        if force:\n",
    "            raise Exception(\"Checkpoint not found\")\n",
    "        else:\n",
    "            return model, 0, []\n",
    "    \n",
    "    # Find latest epoch\n",
    "    for i in itertools.count(1):\n",
    "        if 'epoch={}.checkpoint.pth.tar'.format(i) in cp_files:\n",
    "            epoch = i\n",
    "        else:\n",
    "            break\n",
    "\n",
    "    print(\"Which epoch to load from? Choose in range [1, {}].\".format(epoch))\n",
    "    inp_epoch = int(input())\n",
    "    if inp_epoch not in range(1, epoch+1):\n",
    "        raise Exception(\"Invalid epoch number\")\n",
    "\n",
    "    filename = os.path.join(checkpoint_dir,\n",
    "        'epoch={}.checkpoint.pth.tar'.format(inp_epoch))\n",
    "\n",
    "    print(\"Loading from checkpoint {}\".format(filename))\n",
    "    \n",
    "    if cuda:\n",
    "        checkpoint = torch.load(filename)\n",
    "    else:\n",
    "        # Load GPU model on CPU\n",
    "        checkpoint = torch.load(filename,\n",
    "            map_location=lambda storage, loc: storage)\n",
    "\n",
    "    try:\n",
    "        import pdb\n",
    "        pdb.set_trace()\n",
    "        start_epoch = checkpoint['epoch']\n",
    "        model.load_state_dict(checkpoint['state_dict'])\n",
    "        print(\"=> Successfully restored checkpoint (trained for {} epochs)\"\n",
    "            .format(checkpoint['epoch']))\n",
    "    except:\n",
    "        print(\"=> Checkpoint not successfully restored\")\n",
    "        raise\n",
    "\n",
    "    return model, inp_epoch"
   ]
  },
  {
   "cell_type": "code",
   "execution_count": null,
   "metadata": {
    "ExecuteTime": {
     "end_time": "2021-07-08T04:23:44.900770Z",
     "start_time": "2021-07-08T04:23:44.852890Z"
    },
    "colab": {},
    "colab_type": "code",
    "id": "2M0PqNXXZW2v"
   },
   "outputs": [],
   "source": [
    "# Fit the neural network on training data\n",
    "# and visualize learning progress by displaying the training/validation curves for both loss and AUROC\n",
    "def run(model, criterion=torch.nn.BCELoss(), optimizer=None, batch_size=64, n_epochs=200, learning_rate=1e-3):\n",
    "    shutil.rmtree('checkpoint')\n",
    "    os.mkdir('checkpoint')\n",
    "    \n",
    "    torch.random.manual_seed(0)\n",
    "    np.random.seed(0)\n",
    "    random.seed(0)\n",
    "\n",
    "    # Define datasets and data loaders for training, validation, and test set\n",
    "    tr_loader = DataLoader(tr, batch_size=batch_size, shuffle=True)\n",
    "    va_loader = DataLoader(va, batch_size=batch_size)\n",
    "    te_loader = DataLoader(te, batch_size=batch_size)\n",
    "    \n",
    "    if optimizer is None:\n",
    "        optimizer = torch.optim.Adam(model.parameters(), lr=learning_rate)\n",
    "    \n",
    "    def count_parameters(model):\n",
    "        return sum(p.numel() for p in model.parameters() if p.requires_grad)\n",
    "\n",
    "    print('Number of learnable parameters:', count_parameters(model))\n",
    "    print(flush=True)\n",
    "    \n",
    "    #### Start training\n",
    "    # Move model to the appropriate device\n",
    "    model = model.to(device)\n",
    "\n",
    "    outputs = []\n",
    "    #print('Epoch', 0)\n",
    "    out = _evaluate_epoch(tr_loader, va_loader, model, criterion)\n",
    "    outputs.append(out)\n",
    "\n",
    "    for epoch in tqdm(range(0, n_epochs)):\n",
    "        #print('Epoch', epoch+1)\n",
    "        # Train model\n",
    "        _train_epoch(tr_loader, model, criterion, optimizer)\n",
    "\n",
    "        # Evaluate model\n",
    "        out = _evaluate_epoch(tr_loader, va_loader, model, criterion)\n",
    "        outputs.append(out)\n",
    "\n",
    "        # Save model parameters\n",
    "        save_checkpoint(model, epoch+1, 'checkpoint/')\n",
    "    \n",
    "    #### Finished training\n",
    "    # Plot loss and AUROC scores for training and validation { display-mode: \"form\" }\n",
    "    train_losses, val_losses, train_scores, val_scores = zip(*outputs)\n",
    "\n",
    "    fig, ax = plt.subplots(figsize=(5,5))\n",
    "    plt.plot(range(n_epochs + 1), train_scores, '-', label='Train')\n",
    "    plt.plot(range(n_epochs + 1), val_scores, '-', label='Validation')\n",
    "    plt.xlabel('epoch')\n",
    "    plt.ylabel('AUROC')\n",
    "    plt.legend()\n",
    "    plt.show()\n",
    "\n",
    "    fig, ax = plt.subplots(figsize=(5,5))\n",
    "    plt.plot(range(n_epochs + 1), train_losses, '-', label='Train')\n",
    "    plt.plot(range(n_epochs + 1), val_losses, '-', label='Validation')\n",
    "    plt.xlabel('epoch')\n",
    "    plt.ylabel('Loss (binary cross entropy)')\n",
    "    plt.legend()\n",
    "    plt.show()"
   ]
  },
  {
   "cell_type": "markdown",
   "metadata": {},
   "source": [
    "## From last time..."
   ]
  },
  {
   "cell_type": "code",
   "execution_count": null,
   "metadata": {
    "ExecuteTime": {
     "end_time": "2021-07-08T04:23:45.904418Z",
     "start_time": "2021-07-08T04:23:45.898241Z"
    }
   },
   "outputs": [],
   "source": [
    "import torch\n",
    "import torch.nn as nn\n",
    "import torch.nn.functional as F\n",
    "import math\n",
    "\n",
    "class Net(nn.Module):\n",
    "    def __init__(self, input_size):\n",
    "        super().__init__()\n",
    "        self.fc = nn.Linear(input_size, 1)\n",
    "        self.init_weights()\n",
    "\n",
    "    def init_weights(self):\n",
    "        _, fan_in = self.fc.weight.shape\n",
    "        bound = 1 / math.sqrt(fan_in)\n",
    "        torch.nn.init.uniform_(self.fc.weight, -bound, bound)\n",
    "        torch.nn.init.constant_(self.fc.bias, 0.0)\n",
    "    \n",
    "    def forward(self, x):\n",
    "        z = torch.sigmoid(self.fc(x))\n",
    "        return z"
   ]
  },
  {
   "cell_type": "code",
   "execution_count": null,
   "metadata": {
    "ExecuteTime": {
     "end_time": "2021-07-08T04:23:56.525740Z",
     "start_time": "2021-07-08T04:23:46.473012Z"
    }
   },
   "outputs": [],
   "source": [
    "model = Net(d)\n",
    "run(model)"
   ]
  },
  {
   "cell_type": "markdown",
   "metadata": {},
   "source": [
    "## How to improve the model? \n",
    "\n",
    "- Start with *logistic regression*: linear(40, 1) → sigmoid\n",
    "- Add a hidden layer: linear(40, 64) → relu → linear(64, 1) → sigmoid\n",
    "- Add one more hidden layer: linear(40, 64) → relu → linear(64, 32) → relu → linear(32, 1) → sigmoid\n",
    "\n",
    "Change up the hyperparameters (model architecture, training parameters, etc.)\n",
    "- Train for a longer time (more epochs/iterations). \n",
    "- Add more layers. \n",
    "- Change (increase) the number of hidden units. \n",
    "- Change the batch size. \n",
    "\n",
    "And more...\n",
    "- Use different activation functions. \n",
    "- Initialize weights \"cleverly\". \n",
    "\n",
    "Does the model start to overfit?\n",
    "- Apply early stopping\n",
    "- Add dropout and/or batch normalization"
   ]
  },
  {
   "cell_type": "code",
   "execution_count": null,
   "metadata": {
    "ExecuteTime": {
     "end_time": "2021-07-08T04:26:04.969885Z",
     "start_time": "2021-07-08T04:25:28.903456Z"
    }
   },
   "outputs": [],
   "source": [
    "model2 = nn.Sequential(\n",
    "    nn.Linear(40, 1024),\n",
    "    nn.ReLU(inplace=True),\n",
    "    nn.Dropout(),\n",
    "    nn.Linear(1024, 64),\n",
    "    nn.ReLU(inplace=True),\n",
    "    nn.Linear(64, 1),\n",
    "    nn.Sigmoid(),\n",
    ")\n",
    "run(model2)"
   ]
  },
  {
   "cell_type": "markdown",
   "metadata": {},
   "source": [
    "## Final evaluation\n",
    "- Pick your best model based on validation performance\n",
    "- Get final model performance by evaluating on the test set"
   ]
  },
  {
   "cell_type": "code",
   "execution_count": null,
   "metadata": {
    "ExecuteTime": {
     "end_time": "2021-07-08T04:38:40.533295Z",
     "start_time": "2021-07-08T04:38:40.528238Z"
    }
   },
   "outputs": [],
   "source": [
    "model = nn.Sequential(\n",
    "    nn.Linear(40, 1024),\n",
    "    nn.ReLU(inplace=True),\n",
    "    nn.Linear(1024, 64),\n",
    "    nn.ReLU(inplace=True),\n",
    "    nn.Linear(64, 1),\n",
    "    nn.Sigmoid(),\n",
    ")\n",
    "#model, save_epoch = restore_checkpoint(model, 'checkpoint/')"
   ]
  },
  {
   "cell_type": "code",
   "execution_count": null,
   "metadata": {
    "ExecuteTime": {
     "end_time": "2021-07-08T04:38:41.311741Z",
     "start_time": "2021-07-08T04:38:41.308993Z"
    }
   },
   "outputs": [],
   "source": [
    "# Define datasets and data loaders for training, validation, and test set\n",
    "te_loader = DataLoader(te, batch_size=64)"
   ]
  },
  {
   "cell_type": "code",
   "execution_count": null,
   "metadata": {
    "ExecuteTime": {
     "end_time": "2021-07-08T04:38:41.815411Z",
     "start_time": "2021-07-08T04:38:41.800364Z"
    }
   },
   "outputs": [],
   "source": [
    "criterion = torch.nn.BCELoss()\n",
    "model.eval()\n",
    "with torch.no_grad():\n",
    "    y_true, y_score, running_loss = [], [], []\n",
    "    \n",
    "    # Do forward pass on the entire test set\n",
    "    # Save loss and output\n",
    "    for X, y in te_loader:\n",
    "        output = model(X)\n",
    "        y_true.append(y)\n",
    "        y_score.append(output)\n",
    "        running_loss.append(criterion(output, y).item())\n",
    "    y_true, y_score = np.concatenate(y_true), np.concatenate(y_score)\n",
    "\n",
    "# Calculate average test loss\n",
    "loss = np.mean(running_loss)\n",
    "\n",
    "# Calculate test AUROC\n",
    "score = metrics.roc_auc_score(y_true, y_score)"
   ]
  },
  {
   "cell_type": "code",
   "execution_count": null,
   "metadata": {
    "ExecuteTime": {
     "end_time": "2021-07-08T04:38:42.796838Z",
     "start_time": "2021-07-08T04:38:42.792860Z"
    }
   },
   "outputs": [],
   "source": [
    "loss, score"
   ]
  },
  {
   "cell_type": "code",
   "execution_count": null,
   "metadata": {},
   "outputs": [],
   "source": []
  }
 ],
 "metadata": {
  "kernelspec": {
   "display_name": "Python 3",
   "language": "python",
   "name": "python3"
  },
  "language_info": {
   "codemirror_mode": {
    "name": "ipython",
    "version": 3
   },
   "file_extension": ".py",
   "mimetype": "text/x-python",
   "name": "python",
   "nbconvert_exporter": "python",
   "pygments_lexer": "ipython3",
   "version": "3.7.3"
  }
 },
 "nbformat": 4,
 "nbformat_minor": 2
}
